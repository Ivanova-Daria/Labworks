{
  "nbformat": 4,
  "nbformat_minor": 0,
  "metadata": {
    "colab": {
      "name": "Лаба 1",
      "provenance": [],
      "authorship_tag": "ABX9TyMWVcvZBjtoncjdX+fxY7as",
      "include_colab_link": true
    },
    "kernelspec": {
      "name": "python3",
      "display_name": "Python 3"
    }
  },
  "cells": [
    {
      "cell_type": "markdown",
      "metadata": {
        "id": "view-in-github",
        "colab_type": "text"
      },
      "source": [
        "<a href=\"https://colab.research.google.com/github/Ivanova-Daria/Labworks/blob/main/%D0%9B%D0%B0%D0%B1%D0%B0_1.ipynb\" target=\"_parent\"><img src=\"https://colab.research.google.com/assets/colab-badge.svg\" alt=\"Open In Colab\"/></a>"
      ]
    },
    {
      "cell_type": "markdown",
      "metadata": {
        "id": "vDAOeKVUcYjt"
      },
      "source": [
        "\r\n",
        "1.9 Считайте 3 числа: n, m, l.. Зафиксируйте значение генератора случайных чисел Numpy\r\n",
        "с помощью numpy.random.seed(42) . Создайте матрицу n*m*l из случайных чисел (от 0 до 1) и\r\n",
        "сохраните результат в переменную Z.\r\n",
        "Примечание. В этой задаче не нужно ничего выводить на печать. Только создать матрицу Z.\r\n",
        "Sample Input:\r\n",
        "2 2 2\r\n",
        "Sample Output:\r\n",
        "\r\n",
        "1.9 Считайте 3 числа: n, m, l.. Зафиксируйте значение генератора случайных чисел Numpy с помощью numpy.random.seed(42) . Создайте матрицу nml из случайных чисел (от 0 до 1) и сохраните результат в переменную Z. Примечание. В этой задаче не нужно ничего выводить на печать. Только создать матрицу Z. Sample Input: 2 2 2 Sample Output: [[[0.37454012 0.95071431] [0.73199394 0.59865848]] [[0.15601864 0.15599452] [0.05808361 0.86617615]]]"
      ]
    },
    {
      "cell_type": "code",
      "metadata": {
        "id": "RWaIdCE1CuhV"
      },
      "source": [
        "import timeit\r\n",
        "import numpy as np\r\n",
        "import random\r\n",
        "n=2\r\n",
        "m=2\r\n",
        "l=2\r\n",
        "def f_numpy():\r\n",
        "  np.random.seed(42)\r\n",
        "  Z = np.random.random((n,m,l))\r\n",
        "def f_python():\r\n",
        "  random.seed(42)\r\n",
        "Z = [[[random.random() for i in range(n)] for j in range(m)] for t in range(l)]\r\n",
        "if __name__=='__main__':\r\n",
        "  start_time = timeit.default_timer();\r\n",
        "  f_numpy()\r\n",
        "  numpy_time = timeit.default_timer() - start_time\r\n",
        "\r\n",
        "  start_time = timeit.default_timer();\r\n",
        "  f_python()\r\n",
        "  python_time = timeit.default_timer() - start_time\r\n",
        "\r\n",
        "\r\n",
        "  "
      ],
      "execution_count": null,
      "outputs": []
    },
    {
      "cell_type": "code",
      "metadata": {
        "colab": {
          "base_uri": "https://localhost:8080/"
        },
        "id": "219wlvz5cHCN",
        "outputId": "d229fbc9-37db-4d10-a4be-302214926d2c"
      },
      "source": [
        "print(f'NumPy время {numpy_time}')\r\n",
        "print(f'Python время {python_time}')"
      ],
      "execution_count": null,
      "outputs": [
        {
          "output_type": "stream",
          "text": [
            "NumPy время 9.675500000128068e-05\n",
            "Python время 1.8838999991999117e-05\n"
          ],
          "name": "stdout"
        }
      ]
    }
  ]
}