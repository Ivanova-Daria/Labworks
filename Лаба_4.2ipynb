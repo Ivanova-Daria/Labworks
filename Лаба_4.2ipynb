{
  "nbformat": 4,
  "nbformat_minor": 0,
  "metadata": {
    "colab": {
      "name": "Лаба 4",
      "provenance": [],
      "authorship_tag": "ABX9TyNWJNZAvbCvk58ClnZ1Ivv0",
      "include_colab_link": true
    },
    "kernelspec": {
      "name": "python3",
      "display_name": "Python 3"
    },
    "language_info": {
      "name": "python"
    }
  },
  "cells": [
    {
      "cell_type": "markdown",
      "metadata": {
        "id": "view-in-github",
        "colab_type": "text"
      },
      "source": [
        "<a href=\"https://colab.research.google.com/github/Ivanova-Daria/Labworks/blob/main/%D0%9B%D0%B0%D0%B1%D0%B0_4.2ipynb\" target=\"_parent\"><img src=\"https://colab.research.google.com/assets/colab-badge.svg\" alt=\"Open In Colab\"/></a>"
      ]
    },
    {
      "cell_type": "markdown",
      "metadata": {
        "id": "l3EP9cnNoQQ7"
      },
      "source": [
        "# Задание 1\n"
      ]
    },
    {
      "cell_type": "code",
      "metadata": {
        "id": "9qwEkEYPpaq-"
      },
      "source": [
        "import pandas as pd"
      ],
      "execution_count": null,
      "outputs": []
    },
    {
      "cell_type": "markdown",
      "metadata": {
        "id": "7vQXKKtiBtzM"
      },
      "source": [
        "Необходимо посчитать топ - 10 заработных плат, и отсортировать по убыванию.\n",
        "Исходными данными является строка со словарем. Чтобы преобразовать строку в словарь\n",
        "используется функция le() , из библиотеки literal_eval . В шаблоне показано считывание и\n",
        "преобразование данных в словарь. Вам необходимо преобразовать словарь в DataFrame и произвести\n",
        "указанные вычисления.\n",
        "Колонке с индексами дайте название 'TOP'.\n",
        "Выведите полученный DataFrame.\n",
        "Sample Input:\n",
        "{'age': {0: 36, 1: 41, 2: 34, 3: 48, 4: 20, 5: 41, 6: 44, 7: 46, 8: 46,\n",
        "9: 47, 10: 24, 11: 46, 12: 44, 13: 28, 14: 32}, 'name': {0: 'Colli', 1:\n",
        "'Dudly', 2: 'Ann', 3: 'Colli', 4: 'Colli', 5: 'Dudly', 6: 'Colli', 7:\n",
        "'Ann', 8: 'Ann', 9: 'Bil', 10: 'Colli', 11: 'Ann', 12: 'Colli', 13:\n",
        "'Colli', 14: 'Colli'}, 'salary': {0: 37518, 1: 10028, 2: 63981, 3:\n",
        "75254, 4: 43372, 5: 91670, 6: 75874, 7: 81422, 8: 44411, 9: 142465, 10:\n",
        "13796, 11: 57226, 12: 57615, 13: 12763, 14: 28102}}"
      ]
    },
    {
      "cell_type": "code",
      "metadata": {
        "id": "PULquYfGnQeH",
        "colab": {
          "base_uri": "https://localhost:8080/",
          "height": 420
        },
        "outputId": "9d01d51c-5f5d-458b-e12c-0896fc2ae976"
      },
      "source": [
        "from ast import literal_eval as le\n",
        "df = le(input())\n",
        "df = pd.DataFrame(df)\n",
        "df = df.sort_values('salary', ascending = False).reset_index(drop = True)\n",
        "df.index.name = 'TOP'\n",
        "df[:10]"
      ],
      "execution_count": null,
      "outputs": [
        {
          "output_type": "stream",
          "text": [
            "{'age': {0: 36, 1: 41, 2: 34, 3: 48, 4: 20, 5: 41, 6: 44, 7: 46, 8: 46, 9: 47, 10: 24, 11: 46, 12: 44, 13: 28, 14: 32}, 'name': {0: 'Colli', 1: 'Dudly', 2: 'Ann', 3: 'Colli', 4: 'Colli', 5: 'Dudly', 6: 'Colli', 7: 'Ann', 8: 'Ann', 9: 'Bil', 10: 'Colli', 11: 'Ann', 12: 'Colli', 13: 'Colli', 14: 'Colli'}, 'salary': {0: 37518, 1: 10028, 2: 63981, 3: 75254, 4: 43372, 5: 91670, 6: 75874, 7: 81422, 8: 44411, 9: 142465, 10: 13796, 11: 57226, 12: 57615, 13: 12763, 14: 28102}}\n"
          ],
          "name": "stdout"
        },
        {
          "output_type": "execute_result",
          "data": {
            "text/html": [
              "<div>\n",
              "<style scoped>\n",
              "    .dataframe tbody tr th:only-of-type {\n",
              "        vertical-align: middle;\n",
              "    }\n",
              "\n",
              "    .dataframe tbody tr th {\n",
              "        vertical-align: top;\n",
              "    }\n",
              "\n",
              "    .dataframe thead th {\n",
              "        text-align: right;\n",
              "    }\n",
              "</style>\n",
              "<table border=\"1\" class=\"dataframe\">\n",
              "  <thead>\n",
              "    <tr style=\"text-align: right;\">\n",
              "      <th></th>\n",
              "      <th>age</th>\n",
              "      <th>name</th>\n",
              "      <th>salary</th>\n",
              "    </tr>\n",
              "    <tr>\n",
              "      <th>TOP</th>\n",
              "      <th></th>\n",
              "      <th></th>\n",
              "      <th></th>\n",
              "    </tr>\n",
              "  </thead>\n",
              "  <tbody>\n",
              "    <tr>\n",
              "      <th>0</th>\n",
              "      <td>47</td>\n",
              "      <td>Bil</td>\n",
              "      <td>142465</td>\n",
              "    </tr>\n",
              "    <tr>\n",
              "      <th>1</th>\n",
              "      <td>41</td>\n",
              "      <td>Dudly</td>\n",
              "      <td>91670</td>\n",
              "    </tr>\n",
              "    <tr>\n",
              "      <th>2</th>\n",
              "      <td>46</td>\n",
              "      <td>Ann</td>\n",
              "      <td>81422</td>\n",
              "    </tr>\n",
              "    <tr>\n",
              "      <th>3</th>\n",
              "      <td>44</td>\n",
              "      <td>Colli</td>\n",
              "      <td>75874</td>\n",
              "    </tr>\n",
              "    <tr>\n",
              "      <th>4</th>\n",
              "      <td>48</td>\n",
              "      <td>Colli</td>\n",
              "      <td>75254</td>\n",
              "    </tr>\n",
              "    <tr>\n",
              "      <th>5</th>\n",
              "      <td>34</td>\n",
              "      <td>Ann</td>\n",
              "      <td>63981</td>\n",
              "    </tr>\n",
              "    <tr>\n",
              "      <th>6</th>\n",
              "      <td>44</td>\n",
              "      <td>Colli</td>\n",
              "      <td>57615</td>\n",
              "    </tr>\n",
              "    <tr>\n",
              "      <th>7</th>\n",
              "      <td>46</td>\n",
              "      <td>Ann</td>\n",
              "      <td>57226</td>\n",
              "    </tr>\n",
              "    <tr>\n",
              "      <th>8</th>\n",
              "      <td>46</td>\n",
              "      <td>Ann</td>\n",
              "      <td>44411</td>\n",
              "    </tr>\n",
              "    <tr>\n",
              "      <th>9</th>\n",
              "      <td>20</td>\n",
              "      <td>Colli</td>\n",
              "      <td>43372</td>\n",
              "    </tr>\n",
              "  </tbody>\n",
              "</table>\n",
              "</div>"
            ],
            "text/plain": [
              "     age   name  salary\n",
              "TOP                    \n",
              "0     47    Bil  142465\n",
              "1     41  Dudly   91670\n",
              "2     46    Ann   81422\n",
              "3     44  Colli   75874\n",
              "4     48  Colli   75254\n",
              "5     34    Ann   63981\n",
              "6     44  Colli   57615\n",
              "7     46    Ann   57226\n",
              "8     46    Ann   44411\n",
              "9     20  Colli   43372"
            ]
          },
          "metadata": {
            "tags": []
          },
          "execution_count": 48
        }
      ]
    },
    {
      "cell_type": "markdown",
      "metadata": {
        "id": "3E-J4O0ZB9RP"
      },
      "source": [
        "# Задание 2\n",
        "\n"
      ]
    },
    {
      "cell_type": "markdown",
      "metadata": {
        "id": "p5BDP28pBniM"
      },
      "source": [
        "На вход подается строка со словарем, который необходимо преобразовать в DataFrame ( в\n",
        "предыдущем шаге показано как выделить из строки словарь, не забудьте подключить библиотеку).\n",
        "Выведите только те строки датафрейма, возраст (колонка age) которых находится в интервале между\n",
        "числами [2;4] (включая границы).\n",
        "Колонке с индексами дайте название 'YOUNG'.\n",
        "Выведите полученный DataFrame.\n",
        "Sample Input:\n",
        "{'age': {0: 3, 1: 8, 2: 1, 3: 3, 4: 8, 5: 7, 6: 7, 7: 3, 8: 3, 9: 2,\n",
        "10: 8, 11: 2, 12: 2, 13: 5, 14: 7, 15: 4, 16: 4, 17: 3, 18: 9, 19: 8},\n",
        "'animal': {0: 'dog', 1: 'cat', 2: 'dog', 3: 'dog', 4: 'dog', 5: 'cat',\n",
        "6: 'cat', 7: 'snake', 8: 'dog', 9: 'cat', 10: 'dog', 11: 'dog', 12:\n",
        "'dog', 13: 'dog', 14: 'dog', 15: 'dog', 16: 'dog', 17: 'snake', 18:\n",
        "'snake', 19: 'cat'}, 'name': {0: 'Kaa', 1: 'Murzik', 2: 'Kaa', 3:\n",
        "'Kaa', 4: 'Strelka', 5: 'Strelka', 6: 'Strelka', 7: 'Kaa', 8: 'Kaa', 9:\n",
        "'Kaa', 10: 'Kaa', 11: 'Pushok', 12: 'Pushok', 13: 'Bobik', 14:\n",
        "'Strelka', 15: 'Pushok', 16: 'Kaa', 17: 'Pushok', 18: 'Strelka', 19:\n",
        "'Kaa'}, 'priority': {0: 'yes', 1: 'no', 2: 'yes', 3: 'yes', 4: 'yes',\n",
        "5: 'no', 6: 'yes', 7: 'yes', 8: 'yes', 9: 'no', 10: 'yes', 11: 'yes',\n",
        "12: 'yes', 13: 'yes', 14: 'yes', 15: 'yes', 16: 'yes', 17: 'yes', 18:\n",
        "'yes', 19: 'no'}, 'visits': {0: 3, 1: 4, 2: 1, 3: 3, 4: 3, 5: 4, 6: 3,\n",
        "7: 1, 8: 1, 9: 2, 10: 3, 11: 1, 12: 3, 13: 3, 14: 3, 15: 3, 16: 3, 17:\n",
        "3, 18: 3, 19: 2}}"
      ]
    },
    {
      "cell_type": "code",
      "metadata": {
        "colab": {
          "base_uri": "https://localhost:8080/",
          "height": 359
        },
        "id": "WBgO2lkHw6Dj",
        "outputId": "d52d3ed7-bf07-48cf-c643-134d26e6761b"
      },
      "source": [
        "from ast import literal_eval as le\n",
        "import pandas as pd\n",
        "from ast import literal_eval as le\n",
        "df1 = le(input())\n",
        "\n",
        "df1 = pd.DataFrame(df1)\n",
        "\n",
        "df1= df1[df1['age'] > 1]\n",
        "df1 = df1[df1['age'] <4]\n",
        "df1.index.name = 'YOUNG'\n",
        "df1"
      ],
      "execution_count": null,
      "outputs": [
        {
          "output_type": "stream",
          "text": [
            "{'age': {0: 3, 1: 8, 2: 1, 3: 3, 4: 8, 5: 7, 6: 7, 7: 3, 8: 3, 9: 2, 10: 8, 11: 2, 12: 2, 13: 5, 14: 7, 15: 4, 16: 4, 17: 3, 18: 9, 19: 8}, 'animal': {0: 'dog', 1: 'cat', 2: 'dog', 3: 'dog', 4: 'dog', 5: 'cat', 6: 'cat', 7: 'snake', 8: 'dog', 9: 'cat', 10: 'dog', 11: 'dog', 12: 'dog', 13: 'dog', 14: 'dog', 15: 'dog', 16: 'dog', 17: 'snake', 18: 'snake', 19: 'cat'}, 'name': {0: 'Kaa', 1: 'Murzik', 2: 'Kaa', 3: 'Kaa', 4: 'Strelka', 5: 'Strelka', 6: 'Strelka', 7: 'Kaa', 8: 'Kaa', 9: 'Kaa', 10: 'Kaa', 11: 'Pushok', 12: 'Pushok', 13: 'Bobik', 14: 'Strelka', 15: 'Pushok', 16: 'Kaa', 17: 'Pushok', 18: 'Strelka', 19: 'Kaa'}, 'priority': {0: 'yes', 1: 'no', 2: 'yes', 3: 'yes', 4: 'yes', 5: 'no', 6: 'yes', 7: 'yes', 8: 'yes', 9: 'no', 10: 'yes', 11: 'yes', 12: 'yes', 13: 'yes', 14: 'yes', 15: 'yes', 16: 'yes', 17: 'yes', 18: 'yes', 19: 'no'}, 'visits': {0: 3, 1: 4, 2: 1, 3: 3, 4: 3, 5: 4, 6: 3, 7: 1, 8: 1, 9: 2, 10: 3, 11: 1, 12: 3, 13: 3, 14: 3, 15: 3, 16: 3, 17: 3, 18: 3, 19: 2}}\n"
          ],
          "name": "stdout"
        },
        {
          "output_type": "execute_result",
          "data": {
            "text/html": [
              "<div>\n",
              "<style scoped>\n",
              "    .dataframe tbody tr th:only-of-type {\n",
              "        vertical-align: middle;\n",
              "    }\n",
              "\n",
              "    .dataframe tbody tr th {\n",
              "        vertical-align: top;\n",
              "    }\n",
              "\n",
              "    .dataframe thead th {\n",
              "        text-align: right;\n",
              "    }\n",
              "</style>\n",
              "<table border=\"1\" class=\"dataframe\">\n",
              "  <thead>\n",
              "    <tr style=\"text-align: right;\">\n",
              "      <th></th>\n",
              "      <th>age</th>\n",
              "      <th>animal</th>\n",
              "      <th>name</th>\n",
              "      <th>priority</th>\n",
              "      <th>visits</th>\n",
              "    </tr>\n",
              "    <tr>\n",
              "      <th>YOUNG</th>\n",
              "      <th></th>\n",
              "      <th></th>\n",
              "      <th></th>\n",
              "      <th></th>\n",
              "      <th></th>\n",
              "    </tr>\n",
              "  </thead>\n",
              "  <tbody>\n",
              "    <tr>\n",
              "      <th>0</th>\n",
              "      <td>3</td>\n",
              "      <td>dog</td>\n",
              "      <td>Kaa</td>\n",
              "      <td>yes</td>\n",
              "      <td>3</td>\n",
              "    </tr>\n",
              "    <tr>\n",
              "      <th>3</th>\n",
              "      <td>3</td>\n",
              "      <td>dog</td>\n",
              "      <td>Kaa</td>\n",
              "      <td>yes</td>\n",
              "      <td>3</td>\n",
              "    </tr>\n",
              "    <tr>\n",
              "      <th>7</th>\n",
              "      <td>3</td>\n",
              "      <td>snake</td>\n",
              "      <td>Kaa</td>\n",
              "      <td>yes</td>\n",
              "      <td>1</td>\n",
              "    </tr>\n",
              "    <tr>\n",
              "      <th>8</th>\n",
              "      <td>3</td>\n",
              "      <td>dog</td>\n",
              "      <td>Kaa</td>\n",
              "      <td>yes</td>\n",
              "      <td>1</td>\n",
              "    </tr>\n",
              "    <tr>\n",
              "      <th>9</th>\n",
              "      <td>2</td>\n",
              "      <td>cat</td>\n",
              "      <td>Kaa</td>\n",
              "      <td>no</td>\n",
              "      <td>2</td>\n",
              "    </tr>\n",
              "    <tr>\n",
              "      <th>11</th>\n",
              "      <td>2</td>\n",
              "      <td>dog</td>\n",
              "      <td>Pushok</td>\n",
              "      <td>yes</td>\n",
              "      <td>1</td>\n",
              "    </tr>\n",
              "    <tr>\n",
              "      <th>12</th>\n",
              "      <td>2</td>\n",
              "      <td>dog</td>\n",
              "      <td>Pushok</td>\n",
              "      <td>yes</td>\n",
              "      <td>3</td>\n",
              "    </tr>\n",
              "    <tr>\n",
              "      <th>17</th>\n",
              "      <td>3</td>\n",
              "      <td>snake</td>\n",
              "      <td>Pushok</td>\n",
              "      <td>yes</td>\n",
              "      <td>3</td>\n",
              "    </tr>\n",
              "  </tbody>\n",
              "</table>\n",
              "</div>"
            ],
            "text/plain": [
              "       age animal    name priority  visits\n",
              "YOUNG                                     \n",
              "0        3    dog     Kaa      yes       3\n",
              "3        3    dog     Kaa      yes       3\n",
              "7        3  snake     Kaa      yes       1\n",
              "8        3    dog     Kaa      yes       1\n",
              "9        2    cat     Kaa       no       2\n",
              "11       2    dog  Pushok      yes       1\n",
              "12       2    dog  Pushok      yes       3\n",
              "17       3  snake  Pushok      yes       3"
            ]
          },
          "metadata": {
            "tags": []
          },
          "execution_count": 3
        }
      ]
    },
    {
      "cell_type": "markdown",
      "metadata": {
        "id": "7ExOSFtJjMkC"
      },
      "source": [
        "# Задание 3\n"
      ]
    },
    {
      "cell_type": "markdown",
      "metadata": {
        "id": "6YTon-YiBfxO"
      },
      "source": [
        "Необходимо посчитать средний возраст и заработную плату работников в зависимости от\n",
        "специализации. Отсортировать полученный результат по возрастанию среднего возраста.\n",
        "На вход подается строка со словарем, который необходимо преобразовать в DataFrame ( в\n",
        "предыдущем шаге показано как выделить из строки словарь, не забудьте подключить библиотеку).\n",
        "Колонке с индексами дайте название 'RATING'.\n",
        "Выведите полученный DataFrame.\n",
        "Sample Input:\n",
        "{'age': {0: 36, 1: 41, 2: 34, 3: 48, 4: 20, 5: 41, 6: 44, 7: 46, 8: 46,\n",
        "9: 47, 10: 24, 11: 46, 12: 44, 13: 28, 14: 32, 15: 24, 16: 36, 17: 36,\n",
        "18: 48, 19: 43, 20: 35, 21: 41, 22: 29, 23: 46, 24: 35}, 'name': {0:\n",
        "'Colli', 1: 'Dudly', 2: 'Ann', 3: 'Colli', 4: 'Colli', 5: 'Dudly', 6:\n",
        "'Colli', 7: 'Ann', 8: 'Ann', 9: 'Bil', 10: 'Colli', 11: 'Ann', 12:\n",
        "'Colli', 13: 'Colli', 14: 'Colli', 15: 'Colli', 16: 'Colli', 17:\n",
        "'Colli', 18: 'Colli', 19: 'Bil', 20: 'Bil', 21: 'Dudly', 22: 'Dudly',\n",
        "23: 'Ann', 24: 'Bil'}, 'salary': {0: 37518, 1: 10028, 2: 63981, 3:\n",
        "75254, 4: 43372, 5: 91670, 6: 75874, 7: 81422, 8: 44411, 9: 142465, 10:\n",
        "13796, 11: 57226, 12: 57615, 13: 12763, 14: 28102, 15: 62579, 16:\n",
        "126370, 17: 99752, 18: 127615, 19: 30344, 20: 96977, 21: 74491, 22:\n",
        "17023, 23: 98024, 24: 39242}, 'specialization': {0: 'DE', 1:\n",
        "'Analitics', 2: 'DS', 3: 'DE', 4: 'DE', 5: 'Analitics', 6: 'DE', 7:\n",
        "'DS', 8: 'DS', 9: 'Planning', 10: 'DE', 11: 'DS', 12: 'DE', 13: 'DE',\n",
        "14: 'DE', 15: 'DE', 16: 'DE', 17: 'DE', 18: 'DE', 19: 'Planning', 20:\n",
        "'Planning', 21: 'Analitics', 22: 'Analitics', 23: 'DS', 24:\n",
        "'Planning'}}\n"
      ]
    },
    {
      "cell_type": "code",
      "metadata": {
        "colab": {
          "base_uri": "https://localhost:8080/"
        },
        "id": "DcL2eJXo_lMt",
        "outputId": "2032ae0d-c729-40fe-cc6a-1ee5df3cf219"
      },
      "source": [
        "from ast import literal_eval as le\n",
        "import pandas as pd\n",
        "p = le(input())\n",
        "p = pd.DataFrame(p)\n",
        "p = p.groupby(p['specialization']).mean()\n",
        "p= p.sort_values('age')\n",
        "p.index.name ='RATING'\n",
        "p"
      ],
      "execution_count": null,
      "outputs": [
        {
          "output_type": "stream",
          "text": [
            "{'age': {0: 36, 1: 41, 2: 34, 3: 48, 4: 20, 5: 41, 6: 44, 7: 46, 8: 46, 9: 47, 10: 24, 11: 46, 12: 44, 13: 28, 14: 32, 15: 24, 16: 36, 17: 36, 18: 48, 19: 43, 20: 35, 21: 41, 22: 29, 23: 46, 24: 35}, 'name': {0: 'Colli', 1: 'Dudly', 2: 'Ann', 3: 'Colli', 4: 'Colli', 5: 'Dudly', 6: 'Colli', 7: 'Ann', 8: 'Ann', 9: 'Bil', 10: 'Colli', 11: 'Ann', 12: 'Colli', 13: 'Colli', 14: 'Colli', 15: 'Colli', 16: 'Colli', 17: 'Colli', 18: 'Colli', 19: 'Bil', 20: 'Bil', 21: 'Dudly', 22: 'Dudly', 23: 'Ann', 24: 'Bil'}, 'salary': {0: 37518, 1: 10028, 2: 63981, 3: 75254, 4: 43372, 5: 91670, 6: 75874, 7: 81422, 8: 44411, 9: 142465, 10: 13796, 11: 57226, 12: 57615, 13: 12763, 14: 28102, 15: 62579, 16: 126370, 17: 99752, 18: 127615, 19: 30344, 20: 96977, 21: 74491, 22: 17023, 23: 98024, 24: 39242}, 'specialization': {0: 'DE', 1: 'Analitics', 2: 'DS', 3: 'DE', 4: 'DE', 5: 'Analitics', 6: 'DE', 7: 'DS', 8: 'DS', 9: 'Planning', 10: 'DE', 11: 'DS', 12: 'DE', 13: 'DE', 14: 'DE', 15: 'DE', 16: 'DE', 17: 'DE', 18: 'DE', 19: 'Planning', 20: 'Planning', 21: 'Analitics', 22: 'Analitics', 23: 'DS', 24: 'Planning'}}\n"
          ],
          "name": "stdout"
        },
        {
          "output_type": "execute_result",
          "data": {
            "text/html": [
              "<div>\n",
              "<style scoped>\n",
              "    .dataframe tbody tr th:only-of-type {\n",
              "        vertical-align: middle;\n",
              "    }\n",
              "\n",
              "    .dataframe tbody tr th {\n",
              "        vertical-align: top;\n",
              "    }\n",
              "\n",
              "    .dataframe thead th {\n",
              "        text-align: right;\n",
              "    }\n",
              "</style>\n",
              "<table border=\"1\" class=\"dataframe\">\n",
              "  <thead>\n",
              "    <tr style=\"text-align: right;\">\n",
              "      <th></th>\n",
              "      <th>age</th>\n",
              "      <th>salary</th>\n",
              "    </tr>\n",
              "    <tr>\n",
              "      <th>RATING</th>\n",
              "      <th></th>\n",
              "      <th></th>\n",
              "    </tr>\n",
              "  </thead>\n",
              "  <tbody>\n",
              "    <tr>\n",
              "      <th>DE</th>\n",
              "      <td>35.0</td>\n",
              "      <td>63384.166667</td>\n",
              "    </tr>\n",
              "    <tr>\n",
              "      <th>Analitics</th>\n",
              "      <td>38.0</td>\n",
              "      <td>48303.000000</td>\n",
              "    </tr>\n",
              "    <tr>\n",
              "      <th>Planning</th>\n",
              "      <td>40.0</td>\n",
              "      <td>77257.000000</td>\n",
              "    </tr>\n",
              "    <tr>\n",
              "      <th>DS</th>\n",
              "      <td>43.6</td>\n",
              "      <td>69012.800000</td>\n",
              "    </tr>\n",
              "  </tbody>\n",
              "</table>\n",
              "</div>"
            ],
            "text/plain": [
              "            age        salary\n",
              "RATING                       \n",
              "DE         35.0  63384.166667\n",
              "Analitics  38.0  48303.000000\n",
              "Planning   40.0  77257.000000\n",
              "DS         43.6  69012.800000"
            ]
          },
          "metadata": {
            "tags": []
          },
          "execution_count": 61
        }
      ]
    },
    {
      "cell_type": "markdown",
      "metadata": {
        "id": "dknHSMY1OR2q"
      },
      "source": [
        "# Задание 4\n",
        "В переменных df1 и df2 содержатся два словаря со следующими ключами:\n",
        "df1:\n",
        "price - стоимость\n",
        "type - тип продукта\n",
        "availability- признак наличия продукта\n",
        "df2:\n",
        "prod_id- id продукта\n",
        "rating - оценка покупателей\n",
        "Необходимо преобразовать два словаря в DataFrames. В df1 добавить колонку prod_id, где\n",
        "значениями будет являться последовательность от 1 до 25.\n",
        "После этого объединить два Dataframe в один. Все пустые значения заменить на 0. И посчитать\n",
        "среднюю цену и средний рейтинг продуктов, которые есть в наличии(колонка availability =\n",
        "yes) по типам продуктов. Вывести DataFrame со средней стоимостью и рейтингом.\n",
        "Колонке с индексами дайте название 'Prod_market'.\n",
        "Выведите полученный DataFrame.\n",
        "Sample Input:\n",
        "{'availability': {0: 'yes', 1: 'no', 2: 'yes', 3: 'yes', 4: 'yes', 5:\n",
        "'no', 6: 'yes', 7: 'yes', 8: 'yes', 9: 'no', 10: 'yes', 11: 'yes', 12:\n",
        "'yes', 13: 'yes', 14: 'yes', 15: 'yes', 16: 'yes', 17: 'yes', 18:\n",
        "'yes', 19: 'no', 20: 'no', 21: 'no', 22: 'no', 23: 'yes', 24: 'no'},\n",
        "'price': {0: 772, 1: 2114, 2: 876, 3: 78, 4: 1326, 5: 783, 6: 654, 7:\n",
        "388, 8: 1840, 9: 2123, 10: 1667, 11: 969, 12: 1693, 13: 1486, 14: 1827,\n",
        "15: 1724, 16: 1443, 17: 2220, 18: 1768, 19: 1732, 20: 1689, 21: 1011,\n",
        "22: 156, 23: 1229, 24: 358}, 'type': {0: 'dairy', 1: 'meat', 2:\n",
        "'dairy', 3: 'dairy', 4: 'porridge', 5: 'porridge', 6: 'porridge', 7:\n",
        "'dairy', 8: 'dairy', 9: 'dairy', 10: 'dairy', 11: 'fish', 12: 'fish',\n",
        "13: 'sweets', 14: 'porridge', 15: 'fish', 16: 'dairy', 17: 'fish', 18:\n",
        "'porridge', 19: 'dairy', 20: 'porridge', 21: 'sweets', 22: 'sweets',\n",
        "23: 'sweets', 24: 'dairy'}}-{'prod_id': {0: 19, 1: 24, 2: 17, 3: 3, 4:\n",
        "24, 5: 7, 6: 11, 7: 15, 8: 7, 9: 19, 10: 19, 11: 18, 12: 24, 13: 12,\n",
        "14: 18, 15: 11, 16: 18, 17: 21, 18: 13, 19: 12}, 'rating': {0: 3, 1: 8,\n",
        "2: 1, 3: 3, 4: 8, 5: 7, 6: 7, 7: 3, 8: 3, 9: 2, 10: 8, 11: 2, 12: 2,\n",
        "13: 5, 14: 7, 15: 4, 16: 4, 17: 3, 18: 9, 19: 8}}\n"
      ]
    },
    {
      "cell_type": "code",
      "metadata": {
        "colab": {
          "base_uri": "https://localhost:8080/",
          "height": 200
        },
        "id": "VpIG_CGEOnxi",
        "outputId": "d9dbe894-318c-48c8-c729-62fc8ec28346"
      },
      "source": [
        "from ast import literal_eval as le\n",
        "import pandas as pd\n",
        "import numpy as np\n",
        " \n",
        "from ast import literal_eval as le\n",
        "#df1, df2 = map(le,input().split('-'))\n",
        "df1 = pd.DataFrame({'availability': {0: 'yes', 1: 'no', 2: 'yes', 3: 'yes', 4: 'yes', 5:\n",
        "'no', 6: 'yes', 7: 'yes', 8: 'yes', 9: 'no', 10: 'yes', 11: 'yes', 12:\n",
        "'yes', 13: 'yes', 14: 'yes', 15: 'yes', 16: 'yes', 17: 'yes', 18:\n",
        "'yes', 19: 'no', 20: 'no', 21: 'no', 22: 'no', 23: 'yes', 24: 'no'},\n",
        "'price': {0: 772, 1: 2114, 2: 876, 3: 78, 4: 1326, 5: 783, 6: 654, 7:\n",
        "388, 8: 1840, 9: 2123, 10: 1667, 11: 969, 12: 1693, 13: 1486, 14: 1827,\n",
        "15: 1724, 16: 1443, 17: 2220, 18: 1768, 19: 1732, 20: 1689, 21: 1011,\n",
        "22: 156, 23: 1229, 24: 358}, 'type': {0: 'dairy', 1: 'meat', 2:\n",
        "'dairy', 3: 'dairy', 4: 'porridge', 5: 'porridge', 6: 'porridge', 7:\n",
        "'dairy', 8: 'dairy', 9: 'dairy', 10: 'dairy', 11: 'fish', 12: 'fish',\n",
        "13: 'sweets', 14: 'porridge', 15: 'fish', 16: 'dairy', 17: 'fish', 18:\n",
        "'porridge', 19: 'dairy', 20: 'porridge', 21: 'sweets', 22: 'sweets',\n",
        "23: 'sweets', 24: 'dairy'}})\n",
        "df2 = pd.DataFrame({'prod_id': {0: 19, 1: 24, 2: 17, 3: 3, 4: 24, 5: 7, 6: 11, 7: 15, 8: 7, 9: 19, 10: 19, 11: 18, 12: 24, 13: 12, 14: 18, 15: 11, 16: 18, 17: 21, 18: 13, 19: 12}, 'rating': {0: 3, 1: 8, 2: 1, 3: 3, 4: 8, 5: 7, 6: 7, 7: 3, 8: 3, 9: 2, 10: 8, 11: 2, 12: 2, 13: 5, 14: 7, 15: 4, 16: 4, 17: 3, 18: 9, 19: 8}})\n",
        "a= list(range(1, 26))\n",
        "df1['prod_id']=a\n",
        "g =pd.merge(df1, df2, how='outer')\n",
        "g=g.fillna(0)\n",
        "g=g[g['availability']=='yes']\n",
        "g= g.groupby(g['type']).mean()\n",
        "g = g.drop(['prod_id'],axis=1)\n",
        "g.index.name =  'Prod_market'\n",
        "g"
      ],
      "execution_count": 15,
      "outputs": [
        {
          "output_type": "execute_result",
          "data": {
            "text/html": [
              "<div>\n",
              "<style scoped>\n",
              "    .dataframe tbody tr th:only-of-type {\n",
              "        vertical-align: middle;\n",
              "    }\n",
              "\n",
              "    .dataframe tbody tr th {\n",
              "        vertical-align: top;\n",
              "    }\n",
              "\n",
              "    .dataframe thead th {\n",
              "        text-align: right;\n",
              "    }\n",
              "</style>\n",
              "<table border=\"1\" class=\"dataframe\">\n",
              "  <thead>\n",
              "    <tr style=\"text-align: right;\">\n",
              "      <th></th>\n",
              "      <th>price</th>\n",
              "      <th>rating</th>\n",
              "    </tr>\n",
              "    <tr>\n",
              "      <th>Prod_market</th>\n",
              "      <th></th>\n",
              "      <th></th>\n",
              "    </tr>\n",
              "  </thead>\n",
              "  <tbody>\n",
              "    <tr>\n",
              "      <th>dairy</th>\n",
              "      <td>1091.375000</td>\n",
              "      <td>1.875000</td>\n",
              "    </tr>\n",
              "    <tr>\n",
              "      <th>fish</th>\n",
              "      <td>1716.428571</td>\n",
              "      <td>5.000000</td>\n",
              "    </tr>\n",
              "    <tr>\n",
              "      <th>porridge</th>\n",
              "      <td>1395.000000</td>\n",
              "      <td>3.714286</td>\n",
              "    </tr>\n",
              "    <tr>\n",
              "      <th>sweets</th>\n",
              "      <td>1293.250000</td>\n",
              "      <td>4.500000</td>\n",
              "    </tr>\n",
              "  </tbody>\n",
              "</table>\n",
              "</div>"
            ],
            "text/plain": [
              "                   price    rating\n",
              "Prod_market                       \n",
              "dairy        1091.375000  1.875000\n",
              "fish         1716.428571  5.000000\n",
              "porridge     1395.000000  3.714286\n",
              "sweets       1293.250000  4.500000"
            ]
          },
          "metadata": {
            "tags": []
          },
          "execution_count": 15
        }
      ]
    },
    {
      "cell_type": "markdown",
      "metadata": {
        "id": "OmoH4yF_dYIn"
      },
      "source": [
        ""
      ]
    }
  ]
}