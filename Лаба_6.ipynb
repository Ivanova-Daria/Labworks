{
  "nbformat": 4,
  "nbformat_minor": 0,
  "metadata": {
    "colab": {
      "name": "Лаба_6.ipynb",
      "provenance": [],
      "authorship_tag": "ABX9TyNBqiVephLjoQ/NT49GbTf4",
      "include_colab_link": true
    },
    "kernelspec": {
      "name": "python3",
      "display_name": "Python 3"
    },
    "language_info": {
      "name": "python"
    }
  },
  "cells": [
    {
      "cell_type": "markdown",
      "metadata": {
        "id": "view-in-github",
        "colab_type": "text"
      },
      "source": [
        "<a href=\"https://colab.research.google.com/github/Ivanova-Daria/Labworks/blob/main/%D0%9B%D0%B0%D0%B1%D0%B0_6.ipynb\" target=\"_parent\"><img src=\"https://colab.research.google.com/assets/colab-badge.svg\" alt=\"Open In Colab\"/></a>"
      ]
    },
    {
      "cell_type": "markdown",
      "metadata": {
        "id": "fpSRiq9mMFaX"
      },
      "source": [
        "# Вариант 9"
      ]
    },
    {
      "cell_type": "code",
      "metadata": {
        "id": "LGnaL9qvMEYZ"
      },
      "source": [
        "import requests \n",
        "import pandas as pd\n",
        "import seaborn as sns \n",
        "import matplotlib.pyplot as plt\n",
        "from statsmodels.graphics.gofplots import  qqplot\n",
        "from scipy.stats import shapiro\n",
        "from scipy.stats import normaltest\n",
        "from scipy.stats import anderson\n"
      ],
      "execution_count": 32,
      "outputs": []
    },
    {
      "cell_type": "markdown",
      "metadata": {
        "id": "iIJg-T15MnIb"
      },
      "source": [
        "# Подготовка к анализу"
      ]
    },
    {
      "cell_type": "code",
      "metadata": {
        "id": "EUE3Cd5PMIHv"
      },
      "source": [
        "url='https://en.wikipedia.org/wiki/List_of_highest-grossing_films_in_Malaysia'\n",
        "req=requests.get(url)\n",
        "data=pd.read_html(req.text)\n",
        "df=data[1]"
      ],
      "execution_count": 12,
      "outputs": []
    },
    {
      "cell_type": "code",
      "metadata": {
        "id": "Roa6ctQdNgtQ",
        "colab": {
          "base_uri": "https://localhost:8080/",
          "height": 352
        },
        "outputId": "0ed8ff9d-7740-4421-ce8c-58560af3bbd1"
      },
      "source": [
        "df['Gross (RM)']=df['Gross (RM)'].str.replace(r\"million\",\"\")\n",
        "df['Gross (RM)']=df['Gross (RM)'].astype('float64')\n",
        "df.loc[:,'Gross (RM)'] *= 1000000 \n",
        "df['Gross (RM)']=df['Gross (RM)'].astype('int64')\n",
        "df['Budget (RM)']=df['Budget (RM)'].str.replace(r\"million\",\"\")\n",
        "df['Budget (RM)']=df['Budget (RM)'].astype('float64')\n",
        "df.loc[:,'Budget (RM)'] *= 1000000 \n",
        "df['Budget (RM)']=df['Budget (RM)'].astype('int64')\n",
        "a = df.loc[0:6,'Year'].map(lambda x: str(x)[:-3])\n",
        "b = df.loc[7:8,'Year'].map(lambda x: str(x)[:-4])\n",
        "df.loc[0:6,'Year']= a\n",
        "df.loc[7:8,'Year']= b\n",
        "df['Year']=df['Year'].astype('int64')\n",
        "df"
      ],
      "execution_count": 14,
      "outputs": [
        {
          "output_type": "execute_result",
          "data": {
            "text/html": [
              "<div>\n",
              "<style scoped>\n",
              "    .dataframe tbody tr th:only-of-type {\n",
              "        vertical-align: middle;\n",
              "    }\n",
              "\n",
              "    .dataframe tbody tr th {\n",
              "        vertical-align: top;\n",
              "    }\n",
              "\n",
              "    .dataframe thead th {\n",
              "        text-align: right;\n",
              "    }\n",
              "</style>\n",
              "<table border=\"1\" class=\"dataframe\">\n",
              "  <thead>\n",
              "    <tr style=\"text-align: right;\">\n",
              "      <th></th>\n",
              "      <th>Rank</th>\n",
              "      <th>Film</th>\n",
              "      <th>Gross (RM)</th>\n",
              "      <th>Budget (RM)</th>\n",
              "      <th>Year</th>\n",
              "    </tr>\n",
              "  </thead>\n",
              "  <tbody>\n",
              "    <tr>\n",
              "      <th>0</th>\n",
              "      <td>1</td>\n",
              "      <td>Munafik 2</td>\n",
              "      <td>48000000</td>\n",
              "      <td>2500000</td>\n",
              "      <td>2018</td>\n",
              "    </tr>\n",
              "    <tr>\n",
              "      <th>1</th>\n",
              "      <td>2</td>\n",
              "      <td>Hantu Kak Limah</td>\n",
              "      <td>36230000</td>\n",
              "      <td>1200000</td>\n",
              "      <td>2018</td>\n",
              "    </tr>\n",
              "    <tr>\n",
              "      <th>2</th>\n",
              "      <td>3</td>\n",
              "      <td>Ejen Ali: The Movie</td>\n",
              "      <td>30050000</td>\n",
              "      <td>6500000</td>\n",
              "      <td>2019</td>\n",
              "    </tr>\n",
              "    <tr>\n",
              "      <th>3</th>\n",
              "      <td>4</td>\n",
              "      <td>BoBoiBoy Movie 2</td>\n",
              "      <td>29570000</td>\n",
              "      <td>7000000</td>\n",
              "      <td>2019</td>\n",
              "    </tr>\n",
              "    <tr>\n",
              "      <th>4</th>\n",
              "      <td>5</td>\n",
              "      <td>PASKAL</td>\n",
              "      <td>28980000</td>\n",
              "      <td>10000000</td>\n",
              "      <td>2018</td>\n",
              "    </tr>\n",
              "    <tr>\n",
              "      <th>5</th>\n",
              "      <td>6</td>\n",
              "      <td>Upin &amp; Ipin: Keris Siamang Tunggal</td>\n",
              "      <td>26190000</td>\n",
              "      <td>20000000</td>\n",
              "      <td>2019</td>\n",
              "    </tr>\n",
              "    <tr>\n",
              "      <th>6</th>\n",
              "      <td>7</td>\n",
              "      <td>Polis Evo 2</td>\n",
              "      <td>22450000</td>\n",
              "      <td>8000000</td>\n",
              "      <td>2018</td>\n",
              "    </tr>\n",
              "    <tr>\n",
              "      <th>7</th>\n",
              "      <td>8</td>\n",
              "      <td>Munafik</td>\n",
              "      <td>19040000</td>\n",
              "      <td>1600000</td>\n",
              "      <td>2016</td>\n",
              "    </tr>\n",
              "    <tr>\n",
              "      <th>8</th>\n",
              "      <td>9</td>\n",
              "      <td>Abang Long Fadil 2</td>\n",
              "      <td>18150000</td>\n",
              "      <td>3200000</td>\n",
              "      <td>2017</td>\n",
              "    </tr>\n",
              "    <tr>\n",
              "      <th>9</th>\n",
              "      <td>10</td>\n",
              "      <td>Polis Evo</td>\n",
              "      <td>17740000</td>\n",
              "      <td>2400000</td>\n",
              "      <td>2015</td>\n",
              "    </tr>\n",
              "  </tbody>\n",
              "</table>\n",
              "</div>"
            ],
            "text/plain": [
              "   Rank                                Film  Gross (RM)  Budget (RM)  Year\n",
              "0     1                           Munafik 2    48000000      2500000  2018\n",
              "1     2                     Hantu Kak Limah    36230000      1200000  2018\n",
              "2     3                 Ejen Ali: The Movie    30050000      6500000  2019\n",
              "3     4                    BoBoiBoy Movie 2    29570000      7000000  2019\n",
              "4     5                              PASKAL    28980000     10000000  2018\n",
              "5     6  Upin & Ipin: Keris Siamang Tunggal    26190000     20000000  2019\n",
              "6     7                         Polis Evo 2    22450000      8000000  2018\n",
              "7     8                             Munafik    19040000      1600000  2016\n",
              "8     9                  Abang Long Fadil 2    18150000      3200000  2017\n",
              "9    10                           Polis Evo    17740000      2400000  2015"
            ]
          },
          "metadata": {
            "tags": []
          },
          "execution_count": 14
        }
      ]
    },
    {
      "cell_type": "markdown",
      "metadata": {
        "id": "o0XQxoRoSP9g"
      },
      "source": [
        "# Анализ переменной Budget (RM)"
      ]
    },
    {
      "cell_type": "markdown",
      "metadata": {
        "id": "IpQt7iVlT93f"
      },
      "source": [
        "Визуальные проверки нормальности"
      ]
    },
    {
      "cell_type": "code",
      "metadata": {
        "id": "CFmzQ0l4NjvI",
        "colab": {
          "base_uri": "https://localhost:8080/",
          "height": 0
        },
        "outputId": "088a4c28-fbad-4f74-ba5a-832112673f38"
      },
      "source": [
        "plt.hist(df['Budget (RM)'])\n",
        "plt.show()"
      ],
      "execution_count": 25,
      "outputs": [
        {
          "output_type": "display_data",
          "data": {
            "image/png": "[encoded data removed]",
            "text/plain": [
              "<Figure size 432x288 with 1 Axes>"
            ]
          },
          "metadata": {
            "tags": [],
            "needs_background": "light"
          }
        }
      ]
    },
    {
      "cell_type": "code",
      "metadata": {
        "colab": {
          "base_uri": "https://localhost:8080/",
          "height": 0
        },
        "id": "HrIyrjQoStOW",
        "outputId": "0e8f0ddf-63bf-4cf2-b189-65a44c263914"
      },
      "source": [
        "qqplot(df['Budget (RM)'],line='s')\n",
        "plt.show()"
      ],
      "execution_count": 24,
      "outputs": [
        {
          "output_type": "display_data",
          "data": {
            "image/png": "[encoded data removed]",
            "text/plain": [
              "<Figure size 432x288 with 1 Axes>"
            ]
          },
          "metadata": {
            "tags": [],
            "needs_background": "light"
          }
        }
      ]
    },
    {
      "cell_type": "markdown",
      "metadata": {
        "id": "zZcRKXnAT_Ym"
      },
      "source": [
        "Статистические тесты нормальности"
      ]
    },
    {
      "cell_type": "code",
      "metadata": {
        "colab": {
          "base_uri": "https://localhost:8080/"
        },
        "id": "LzfrdRYeUCXn",
        "outputId": "e6e4b336-f978-4bdb-d278-ba4003ce33ee"
      },
      "source": [
        "stat, p = shapiro(df['Budget (RM)'])\n",
        "print('Statistics=%.3f, p=%.3f'%(stat,p))\n",
        "if p> 0.05:\n",
        "  print('Sample looks Gaussian')\n",
        "else :\n",
        "  print('Sample does not look Gaussian')"
      ],
      "execution_count": 35,
      "outputs": [
        {
          "output_type": "stream",
          "text": [
            "Statistics=0.815, p=0.022\n",
            "Sample does not look Gaussian\n"
          ],
          "name": "stdout"
        }
      ]
    },
    {
      "cell_type": "code",
      "metadata": {
        "colab": {
          "base_uri": "https://localhost:8080/"
        },
        "id": "ayfH3tnvYuYl",
        "outputId": "4608f83d-7d11-42e5-854a-62046e98bf63"
      },
      "source": [
        "stat, p = normaltest(df['Budget (RM)'])\n",
        "print('Statistics=%.3f, p=%.3f'%(stat,p))\n",
        "if p> 0.05:\n",
        "  print('Sample looks Gaussian')\n",
        "else :\n",
        "  print('Sample does not look Gaussian')"
      ],
      "execution_count": 34,
      "outputs": [
        {
          "output_type": "stream",
          "text": [
            "Statistics=10.031, p=0.007\n",
            "Sample does not look Gaussian\n"
          ],
          "name": "stdout"
        },
        {
          "output_type": "stream",
          "text": [
            "/usr/local/lib/python3.7/dist-packages/scipy/stats/stats.py:1535: UserWarning: kurtosistest only valid for n>=20 ... continuing anyway, n=10\n",
            "  \"anyway, n=%i\" % int(n))\n"
          ],
          "name": "stderr"
        }
      ]
    },
    {
      "cell_type": "code",
      "metadata": {
        "colab": {
          "base_uri": "https://localhost:8080/"
        },
        "id": "6WBDP9QyadDG",
        "outputId": "89c27388-1a44-4062-cdb1-bb17e6ec7f80"
      },
      "source": [
        "result = anderson(df['Budget (RM)'])\n",
        "print('Statistic: %.3f'% result.statistic)\n",
        "p=0\n",
        "for i in range(len(result.critical_values)):\n",
        "  if result.statistic<result.critical_values[i]:\n",
        "    print('%.3f: %.3f, data looks normal' %(result.significance_level[i], result.critical_values[i]))\n",
        "  else:\n",
        "     print('%.3f: %.3f, data does not look normal' %(result.significance_level[i], result.critical_values[i]))"
      ],
      "execution_count": 40,
      "outputs": [
        {
          "output_type": "stream",
          "text": [
            "Statistic: 0.697\n",
            "15.000: 0.501, data does not look normal\n",
            "10.000: 0.570, data does not look normal\n",
            "5.000: 0.684, data does not look normal\n",
            "2.500: 0.798, data looks normal\n",
            "1.000: 0.950, data looks normal\n"
          ],
          "name": "stdout"
        }
      ]
    },
    {
      "cell_type": "markdown",
      "metadata": {
        "id": "dzHux8X1RQtk"
      },
      "source": [
        "# Анализ переменной Year\n",
        "---\n",
        "\n"
      ]
    },
    {
      "cell_type": "code",
      "metadata": {
        "colab": {
          "base_uri": "https://localhost:8080/",
          "height": 0
        },
        "id": "w3qrTnbfkS13",
        "outputId": "01a83b18-032e-4317-fc41-82174f5776ec"
      },
      "source": [
        "plt.hist(df['Year'])\n",
        "plt.show()"
      ],
      "execution_count": 50,
      "outputs": [
        {
          "output_type": "display_data",
          "data": {
            "image/png": "[encoded data removed]",
            "text/plain": [
              "<Figure size 432x288 with 1 Axes>"
            ]
          },
          "metadata": {
            "tags": [],
            "needs_background": "light"
          }
        }
      ]
    },
    {
      "cell_type": "code",
      "metadata": {
        "colab": {
          "base_uri": "https://localhost:8080/",
          "height": 0
        },
        "id": "C9TF8tVDkYbA",
        "outputId": "8424519a-1486-40d9-dbc7-655101bc8b42"
      },
      "source": [
        "qqplot(df['Year'],line='s')\n",
        "plt.show()"
      ],
      "execution_count": 51,
      "outputs": [
        {
          "output_type": "display_data",
          "data": {
            "image/png": "[encoded data removed]",
            "text/plain": [
              "<Figure size 432x288 with 1 Axes>"
            ]
          },
          "metadata": {
            "tags": [],
            "needs_background": "light"
          }
        }
      ]
    },
    {
      "cell_type": "code",
      "metadata": {
        "colab": {
          "base_uri": "https://localhost:8080/"
        },
        "id": "yIypjto8kbUO",
        "outputId": "29879f33-4f56-4a03-8e29-71a3bc8623bc"
      },
      "source": [
        "stat, p = shapiro(df['Year'])\n",
        "print('Statistics=%.3f, p=%.3f'%(stat,p))\n",
        "if p> 0.05:\n",
        "  print('Sample looks Gaussian')\n",
        "else :\n",
        "  print('Sample does not look Gaussian')"
      ],
      "execution_count": 53,
      "outputs": [
        {
          "output_type": "stream",
          "text": [
            "Statistics=0.855, p=0.067\n",
            "Sample looks Gaussian\n"
          ],
          "name": "stdout"
        }
      ]
    },
    {
      "cell_type": "code",
      "metadata": {
        "colab": {
          "base_uri": "https://localhost:8080/"
        },
        "id": "oQIOvAs9kdbD",
        "outputId": "f1f80796-314c-4946-90b2-13352fc554e1"
      },
      "source": [
        "stat, p = normaltest(df['Year'])\n",
        "print('Statistics=%.3f, p=%.3f'%(stat,p))\n",
        "if p> 0.05:\n",
        "  print('Sample looks Gaussian')\n",
        "else :\n",
        "  print('Sample does not look Gaussian')"
      ],
      "execution_count": 54,
      "outputs": [
        {
          "output_type": "stream",
          "text": [
            "Statistics=2.704, p=0.259\n",
            "Sample looks Gaussian\n"
          ],
          "name": "stdout"
        },
        {
          "output_type": "stream",
          "text": [
            "/usr/local/lib/python3.7/dist-packages/scipy/stats/stats.py:1535: UserWarning: kurtosistest only valid for n>=20 ... continuing anyway, n=10\n",
            "  \"anyway, n=%i\" % int(n))\n"
          ],
          "name": "stderr"
        }
      ]
    },
    {
      "cell_type": "code",
      "metadata": {
        "colab": {
          "base_uri": "https://localhost:8080/"
        },
        "id": "2HaEBFSakfvz",
        "outputId": "3423cc72-d4b2-423f-c98f-0216243e28b2"
      },
      "source": [
        "result = anderson(df['Year'])\n",
        "print('Statistic: %.3f'% result.statistic)\n",
        "p=0\n",
        "for i in range(len(result.critical_values)):\n",
        "  if result.statistic<result.critical_values[i]:\n",
        "    print('%.3f: %.3f, data looks normal' %(result.significance_level[i], result.critical_values[i]))\n",
        "  else:\n",
        "     print('%.3f: %.3f, data does not look normal' %(result.significance_level[i], result.critical_values[i]))"
      ],
      "execution_count": 55,
      "outputs": [
        {
          "output_type": "stream",
          "text": [
            "Statistic: 0.644\n",
            "15.000: 0.501, data does not look normal\n",
            "10.000: 0.570, data does not look normal\n",
            "5.000: 0.684, data looks normal\n",
            "2.500: 0.798, data looks normal\n",
            "1.000: 0.950, data looks normal\n"
          ],
          "name": "stdout"
        }
      ]
    },
    {
      "cell_type": "markdown",
      "metadata": {
        "id": "7SZ_4y4_RZDq"
      },
      "source": [
        "# Анализ переменной Gross (RM)\n",
        "---"
      ]
    },
    {
      "cell_type": "code",
      "metadata": {
        "colab": {
          "base_uri": "https://localhost:8080/",
          "height": 0
        },
        "id": "NFHZ7PYtjYDI",
        "outputId": "07aa3f52-d803-4f45-b7c9-5688ad6fcc86"
      },
      "source": [
        "plt.hist(df['Gross (RM)'])\n",
        "plt.show()"
      ],
      "execution_count": 41,
      "outputs": [
        {
          "output_type": "display_data",
          "data": {
            "image/png": "[encoded data removed]",
            "text/plain": [
              "<Figure size 432x288 with 1 Axes>"
            ]
          },
          "metadata": {
            "tags": [],
            "needs_background": "light"
          }
        }
      ]
    },
    {
      "cell_type": "code",
      "metadata": {
        "colab": {
          "base_uri": "https://localhost:8080/",
          "height": 0
        },
        "id": "MtKnKuDRjd9K",
        "outputId": "0bad040e-0c0b-47f2-a176-9b619c454dae"
      },
      "source": [
        "qqplot(df['Gross (RM)'],line='s')\n",
        "plt.show()"
      ],
      "execution_count": 42,
      "outputs": [
        {
          "output_type": "display_data",
          "data": {
            "image/png": "[encoded data removed]",
            "text/plain": [
              "<Figure size 432x288 with 1 Axes>"
            ]
          },
          "metadata": {
            "tags": [],
            "needs_background": "light"
          }
        }
      ]
    },
    {
      "cell_type": "code",
      "metadata": {
        "colab": {
          "base_uri": "https://localhost:8080/"
        },
        "id": "Yko2AbjWjhFy",
        "outputId": "a78169c8-dcf8-4841-ae74-c3311212677a"
      },
      "source": [
        "stat, p = shapiro(df['Gross (RM)'])\n",
        "print('Statistics=%.3f, p=%.3f'%(stat,p))\n",
        "if p> 0.05:\n",
        "  print('Sample looks Gaussian')\n",
        "else :\n",
        "  print('Sample does not look Gaussian')"
      ],
      "execution_count": 43,
      "outputs": [
        {
          "output_type": "stream",
          "text": [
            "Statistics=0.899, p=0.211\n",
            "Sample looks Gaussian\n"
          ],
          "name": "stdout"
        }
      ]
    },
    {
      "cell_type": "code",
      "metadata": {
        "colab": {
          "base_uri": "https://localhost:8080/"
        },
        "id": "yxuoPk0wjkcX",
        "outputId": "0c9584d1-7999-49f0-a268-e9413abd6183"
      },
      "source": [
        "stat, p = normaltest(df['Gross (RM)'])\n",
        "print('Statistics=%.3f, p=%.3f'%(stat,p))\n",
        "if p> 0.05:\n",
        "  print('Sample looks Gaussian')\n",
        "else :\n",
        "  print('Sample does not look Gaussian')"
      ],
      "execution_count": 44,
      "outputs": [
        {
          "output_type": "stream",
          "text": [
            "Statistics=3.765, p=0.152\n",
            "Sample looks Gaussian\n"
          ],
          "name": "stdout"
        },
        {
          "output_type": "stream",
          "text": [
            "/usr/local/lib/python3.7/dist-packages/scipy/stats/stats.py:1535: UserWarning: kurtosistest only valid for n>=20 ... continuing anyway, n=10\n",
            "  \"anyway, n=%i\" % int(n))\n"
          ],
          "name": "stderr"
        }
      ]
    },
    {
      "cell_type": "code",
      "metadata": {
        "colab": {
          "base_uri": "https://localhost:8080/"
        },
        "id": "ApxM1ngPjnNW",
        "outputId": "a4a8254b-7e1d-46a4-d2f5-1e1a0d36961b"
      },
      "source": [
        "result = anderson(df['Gross (RM)'])\n",
        "print('Statistic: %.3f'% result.statistic)\n",
        "p=0\n",
        "for i in range(len(result.critical_values)):\n",
        "  if result.statistic<result.critical_values[i]:\n",
        "    print('%.3f: %.3f, data looks normal' %(result.significance_level[i], result.critical_values[i]))\n",
        "  else:\n",
        "     print('%.3f: %.3f, data does not look normal' %(result.significance_level[i], result.critical_values[i]))"
      ],
      "execution_count": 49,
      "outputs": [
        {
          "output_type": "stream",
          "text": [
            "Statistic: 0.396\n",
            "15.000: 0.501, data looks normal\n",
            "10.000: 0.570, data looks normal\n",
            "5.000: 0.684, data looks normal\n",
            "2.500: 0.798, data looks normal\n",
            "1.000: 0.950, data looks normal\n"
          ],
          "name": "stdout"
        }
      ]
    },
    {
      "cell_type": "code",
      "metadata": {
        "id": "U10CEBPNjP5g"
      },
      "source": [
        ""
      ],
      "execution_count": null,
      "outputs": []
    }
  ]
}