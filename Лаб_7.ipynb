{
  "nbformat": 4,
  "nbformat_minor": 0,
  "metadata": {
    "colab": {
      "name": "Лаб 7.ipynb",
      "provenance": [],
      "authorship_tag": "ABX9TyMzdwNctiIhYvcZJob93D8r",
      "include_colab_link": true
    },
    "kernelspec": {
      "name": "python3",
      "display_name": "Python 3"
    },
    "language_info": {
      "name": "python"
    }
  },
  "cells": [
    {
      "cell_type": "markdown",
      "metadata": {
        "id": "view-in-github",
        "colab_type": "text"
      },
      "source": [
        "<a href=\"https://colab.research.google.com/github/Ivanova-Daria/Labworks/blob/main/%D0%9B%D0%B0%D0%B1_7.ipynb\" target=\"_parent\"><img src=\"https://colab.research.google.com/assets/colab-badge.svg\" alt=\"Open In Colab\"/></a>"
      ]
    },
    {
      "cell_type": "markdown",
      "metadata": {
        "id": "mbLD4ogbY8pe"
      },
      "source": [
        "# Вариант 9"
      ]
    },
    {
      "cell_type": "markdown",
      "metadata": {
        "id": "9utElGawZBnE"
      },
      "source": [
        "# Нормализация данных временных рядов"
      ]
    },
    {
      "cell_type": "code",
      "metadata": {
        "id": "RK-AG0qCKlGQ"
      },
      "source": [
        "import requests\n",
        "import pandas as pd\n",
        "import seaborn as sns #рисовалка\n",
        "import matplotlib.pyplot as plt"
      ],
      "execution_count": 11,
      "outputs": []
    },
    {
      "cell_type": "code",
      "metadata": {
        "id": "hB1BlCljQVoF"
      },
      "source": [
        "from pandas import read_excel\n",
        "from pandas import read_csv\n",
        "from sklearn.preprocessing import MinMaxScaler\n",
        "from sklearn.preprocessing import StandardScaler\n",
        "from math import sqrt"
      ],
      "execution_count": 12,
      "outputs": []
    },
    {
      "cell_type": "code",
      "metadata": {
        "id": "q3CMbHJi2H5T"
      },
      "source": [
        "url='http://pogoda-service.ru/archive_gsod_res.php?country=IZ&station=406600&datepicker_beg=01.12.2010&datepicker_end=01.12.2020&bsubmit=Посмотреть'\n",
        "req=requests.get(url)\n",
        "data=pd.read_html(req.text)\n",
        "df=data[0]"
      ],
      "execution_count": 13,
      "outputs": []
    },
    {
      "cell_type": "code",
      "metadata": {
        "colab": {
          "base_uri": "https://localhost:8080/",
          "height": 441
        },
        "id": "fz6rGn_xK1d2",
        "outputId": "d8a87e01-e958-440c-cdad-ad311fbf915a"
      },
      "source": [
        "df.columns = ['Data','2','3','Temp','4','5','6','7']\n",
        "df= df[['Data', 'Temp']]\n",
        "df.set_index(['Data'], inplace = True)\n",
        "df"
      ],
      "execution_count": 14,
      "outputs": [
        {
          "output_type": "execute_result",
          "data": {
            "text/html": [
              "<div>\n",
              "<style scoped>\n",
              "    .dataframe tbody tr th:only-of-type {\n",
              "        vertical-align: middle;\n",
              "    }\n",
              "\n",
              "    .dataframe tbody tr th {\n",
              "        vertical-align: top;\n",
              "    }\n",
              "\n",
              "    .dataframe thead th {\n",
              "        text-align: right;\n",
              "    }\n",
              "</style>\n",
              "<table border=\"1\" class=\"dataframe\">\n",
              "  <thead>\n",
              "    <tr style=\"text-align: right;\">\n",
              "      <th></th>\n",
              "      <th>Temp</th>\n",
              "    </tr>\n",
              "    <tr>\n",
              "      <th>Data</th>\n",
              "      <th></th>\n",
              "    </tr>\n",
              "  </thead>\n",
              "  <tbody>\n",
              "    <tr>\n",
              "      <th>08.06.2012</th>\n",
              "      <td>37.5</td>\n",
              "    </tr>\n",
              "    <tr>\n",
              "      <th>16.06.2012</th>\n",
              "      <td>43.1</td>\n",
              "    </tr>\n",
              "    <tr>\n",
              "      <th>28.06.2012</th>\n",
              "      <td>37.5</td>\n",
              "    </tr>\n",
              "    <tr>\n",
              "      <th>14.07.2012</th>\n",
              "      <td>40.8</td>\n",
              "    </tr>\n",
              "    <tr>\n",
              "      <th>18.07.2012</th>\n",
              "      <td>41.9</td>\n",
              "    </tr>\n",
              "    <tr>\n",
              "      <th>...</th>\n",
              "      <td>...</td>\n",
              "    </tr>\n",
              "    <tr>\n",
              "      <th>01.12.2017</th>\n",
              "      <td>16.3</td>\n",
              "    </tr>\n",
              "    <tr>\n",
              "      <th>03.12.2017</th>\n",
              "      <td>15.3</td>\n",
              "    </tr>\n",
              "    <tr>\n",
              "      <th>04.12.2017</th>\n",
              "      <td>14.2</td>\n",
              "    </tr>\n",
              "    <tr>\n",
              "      <th>05.12.2017</th>\n",
              "      <td>13.2</td>\n",
              "    </tr>\n",
              "    <tr>\n",
              "      <th>07.12.2017</th>\n",
              "      <td>12.9</td>\n",
              "    </tr>\n",
              "  </tbody>\n",
              "</table>\n",
              "<p>1000 rows × 1 columns</p>\n",
              "</div>"
            ],
            "text/plain": [
              "            Temp\n",
              "Data            \n",
              "08.06.2012  37.5\n",
              "16.06.2012  43.1\n",
              "28.06.2012  37.5\n",
              "14.07.2012  40.8\n",
              "18.07.2012  41.9\n",
              "...          ...\n",
              "01.12.2017  16.3\n",
              "03.12.2017  15.3\n",
              "04.12.2017  14.2\n",
              "05.12.2017  13.2\n",
              "07.12.2017  12.9\n",
              "\n",
              "[1000 rows x 1 columns]"
            ]
          },
          "metadata": {
            "tags": []
          },
          "execution_count": 14
        }
      ]
    },
    {
      "cell_type": "code",
      "metadata": {
        "colab": {
          "base_uri": "https://localhost:8080/"
        },
        "id": "G_ibj2TpSDj-",
        "outputId": "19e23ac6-79ad-4350-e0f6-611015f8f212"
      },
      "source": [
        "print(df.head())\n",
        "values = df.values\n",
        "values = values.reshape((len(values),1))\n",
        "scaler = MinMaxScaler(feature_range=(0,1))\n",
        "scaler = scaler.fit(values)\n",
        "print('Min: %f, Max: %f' % (scaler.data_min_, scaler.data_max_))\n",
        "norm = scaler.transform(values)\n",
        "for i in range(5):\n",
        "  print(norm[i])\n",
        "inversed = scaler.inverse_transform(norm)\n",
        "for i in range(5):\n",
        "  print(inversed[i])"
      ],
      "execution_count": 15,
      "outputs": [
        {
          "output_type": "stream",
          "text": [
            "            Temp\n",
            "Data            \n",
            "08.06.2012  37.5\n",
            "16.06.2012  43.1\n",
            "28.06.2012  37.5\n",
            "14.07.2012  40.8\n",
            "18.07.2012  41.9\n",
            "Min: 3.100000, Max: 43.100000\n",
            "[0.86]\n",
            "[1.]\n",
            "[0.86]\n",
            "[0.9425]\n",
            "[0.97]\n",
            "[37.5]\n",
            "[43.1]\n",
            "[37.5]\n",
            "[40.8]\n",
            "[41.9]\n"
          ],
          "name": "stdout"
        }
      ]
    },
    {
      "cell_type": "markdown",
      "metadata": {
        "id": "6WiEFAaATiUy"
      },
      "source": [
        "# Стандартизация"
      ]
    },
    {
      "cell_type": "code",
      "metadata": {
        "colab": {
          "base_uri": "https://localhost:8080/",
          "height": 281
        },
        "id": "NAllsS5wTo7Z",
        "outputId": "86c5b805-e185-4df1-a49b-7bda45bd5f98"
      },
      "source": [
        "url='http://pogoda-service.ru/archive_gsod_res.php?country=IZ&station=406600&datepicker_beg=01.12.2010&datepicker_end=01.12.2020&bsubmit=Посмотреть'\n",
        "req=requests.get(url)\n",
        "data=pd.read_html(req.text)\n",
        "df=data[0]\n",
        "df.columns = ['Data','2','3','Temp','4','5','6','7']\n",
        "df= df[['Data', 'Temp']]\n",
        "df.set_index(['Data'], inplace = True)\n",
        "from matplotlib import pyplot\n",
        "df.hist()\n",
        "pyplot.show()"
      ],
      "execution_count": 16,
      "outputs": [
        {
          "output_type": "display_data",
          "data": {
            "image/png": "[encoded data removed]",
            "text/plain": [
              "<Figure size 432x288 with 1 Axes>"
            ]
          },
          "metadata": {
            "tags": [],
            "needs_background": "light"
          }
        }
      ]
    },
    {
      "cell_type": "code",
      "metadata": {
        "colab": {
          "base_uri": "https://localhost:8080/"
        },
        "id": "rK9bpybQW2Lx",
        "outputId": "ba2c0a96-0755-4b76-9ee5-d009bc0cf062"
      },
      "source": [
        "scalar = StandardScaler()\n",
        "scalar=scalar.fit(values)\n",
        "print('Mean: %f, StandardDeviation: %f' % (scalar.mean_, sqrt(scalar.var_)))\n",
        "norm = scalar.transform(values)\n",
        "for i in range(5):\n",
        "  print(norm[i])\n",
        "inversed = scalar.inverse_transform(norm)\n",
        "for i in range(5):\n",
        "  print(inversed[i])"
      ],
      "execution_count": 17,
      "outputs": [
        {
          "output_type": "stream",
          "text": [
            "Mean: 26.192600, StandardDeviation: 10.180006\n",
            "[1.11074589]\n",
            "[1.66084379]\n",
            "[1.11074589]\n",
            "[1.43491072]\n",
            "[1.54296567]\n",
            "[37.5]\n",
            "[43.1]\n",
            "[37.5]\n",
            "[40.8]\n",
            "[41.9]\n"
          ],
          "name": "stdout"
        }
      ]
    },
    {
      "cell_type": "markdown",
      "metadata": {
        "id": "iI9OtMhWcVJ-"
      },
      "source": [
        "# Таблица полученных результатов"
      ]
    },
    {
      "cell_type": "code",
      "metadata": {
        "colab": {
          "base_uri": "https://localhost:8080/",
          "height": 109
        },
        "id": "vwH5DsaWcb12",
        "outputId": "f3c94796-067e-4abf-c314-73ae6ae92d16"
      },
      "source": [
        "data = {'Min':scaler.data_min_,'Max': scaler.data_max_,'Среднее значение':scalar.mean_,'Стандартное отклонение': sqrt(scalar.var_)}\n",
        "df1=pd.DataFrame(data)\n",
        "df1.columns = pd.MultiIndex.from_tuples(zip(['Нормализация', '','Cтандартизация', ''], df1.columns))\n",
        "df1"
      ],
      "execution_count": 45,
      "outputs": [
        {
          "output_type": "execute_result",
          "data": {
            "text/html": [
              "<div>\n",
              "<style scoped>\n",
              "    .dataframe tbody tr th:only-of-type {\n",
              "        vertical-align: middle;\n",
              "    }\n",
              "\n",
              "    .dataframe tbody tr th {\n",
              "        vertical-align: top;\n",
              "    }\n",
              "\n",
              "    .dataframe thead tr th {\n",
              "        text-align: left;\n",
              "    }\n",
              "</style>\n",
              "<table border=\"1\" class=\"dataframe\">\n",
              "  <thead>\n",
              "    <tr>\n",
              "      <th></th>\n",
              "      <th>Нормализация</th>\n",
              "      <th></th>\n",
              "      <th>Cтандартизация</th>\n",
              "      <th></th>\n",
              "    </tr>\n",
              "    <tr>\n",
              "      <th></th>\n",
              "      <th>Min</th>\n",
              "      <th>Max</th>\n",
              "      <th>Среднее значение</th>\n",
              "      <th>Стандартное отклонение</th>\n",
              "    </tr>\n",
              "  </thead>\n",
              "  <tbody>\n",
              "    <tr>\n",
              "      <th>0</th>\n",
              "      <td>3.1</td>\n",
              "      <td>43.1</td>\n",
              "      <td>26.1926</td>\n",
              "      <td>10.180006</td>\n",
              "    </tr>\n",
              "  </tbody>\n",
              "</table>\n",
              "</div>"
            ],
            "text/plain": [
              "  Нормализация         Cтандартизация                       \n",
              "           Min   Max Среднее значение Стандартное отклонение\n",
              "0          3.1  43.1          26.1926              10.180006"
            ]
          },
          "metadata": {
            "tags": []
          },
          "execution_count": 45
        }
      ]
    }
  ]
}